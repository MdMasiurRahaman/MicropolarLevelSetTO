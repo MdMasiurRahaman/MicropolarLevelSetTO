{
 "cells": [
  {
   "cell_type": "markdown",
   "id": "284fb3ae-baa2-4f6d-bf31-0daf3b65f8ee",
   "metadata": {},
   "source": [
    "## Packages required"
   ]
  },
  {
   "cell_type": "code",
   "execution_count": null,
   "id": "e49eb2ca-48e3-48ec-851e-4c25b2b8d0fd",
   "metadata": {},
   "outputs": [],
   "source": [
    "using GridapTopOpt, Gridap, Gridap.TensorValues"
   ]
  },
  {
   "cell_type": "code",
   "execution_count": null,
   "id": "b0199227-bca5-40c3-b8f1-0a9f7085568d",
   "metadata": {},
   "outputs": [],
   "source": [
    "const E = 1        # Young's Modulus      \n",
    "const ν = 0.3      # Poison ratio    \n",
    "const G = E/(2*(1+ν))\n",
    "const l = 8.0      # Bending length scale  \n",
    "const N = 0.99     # Micropolar parameter\n",
    " \n",
    "# const λₘₐₜ = 2*G*ν/(1 -2*ν)   ## For plain strain\n",
    "# const κₘₐₜ = 2*G*N^2/(1-N^2)\n",
    "# const μₘₐₜ = G*(1-2*(N^2))/(1-N^2)\n",
    "# const γₘₐₜ = 4*G*l^2\n",
    "\n",
    "const λₘₐₜ = E*ν/(1-ν^2)  # Modified λ for plane stress (critical change!)   #2*G*ν/(1 -2*ν)\n",
    "const κₘₐₜ = 2*G*N^2/(1-N^2)\n",
    "const μₘₐₜ = G*(1-2*(N^2))/(1-N^2)\n",
    "const γₘₐₜ = 4*G*l^2"
   ]
  },
  {
   "cell_type": "code",
   "execution_count": null,
   "id": "ee2d8ccd-37ed-4064-8851-9b4ac5526713",
   "metadata": {},
   "outputs": [],
   "source": [
    "const Height = 10\n",
    "const Length = 3*Height"
   ]
  },
  {
   "cell_type": "code",
   "execution_count": null,
   "id": "e69a1da4-79cb-4ca2-801c-1d3b1630b3c4",
   "metadata": {},
   "outputs": [],
   "source": [
    "# FE parameters\n",
    "order = 1                                                            # Finite element order\n",
    "dom = (0,Length,0,Height)                                            # Bounding domain\n",
    "nx,ny = (300,100)\n",
    "el_size = (nx,ny)                                                   # Mesh partition size\n",
    "f_Γ_N(x) = (x[2] ≈ Height) &&                                       # Γ_N indicator function\n",
    "    (0.0 <= x[1] <= 5*Length/nx)\n",
    "f_Γ_D1(x) = (x[1] ≈ 0.0)\n",
    "f_Γ_D2(x) = (x[1] ≈ Length) && (x[2] ≈ 0.0)"
   ]
  },
  {
   "cell_type": "code",
   "execution_count": null,
   "id": "633633be-8a1b-4b56-95c1-069ded3c960e",
   "metadata": {},
   "outputs": [],
   "source": [
    "# FD parameters\n",
    "γ = 0.1                                                          # HJ eqn time step coeff\n",
    "γ_reinit = 0.5                                                   # Reinit. eqn time step coeff\n",
    "max_steps = 45                                                   # Max steps for advection                         \n",
    "tol =1e-6                                                        # Reinitialisation tolerance"
   ]
  },
  {
   "cell_type": "code",
   "execution_count": null,
   "id": "7b34a9f7-cddd-4e30-98d6-766d8706cb3d",
   "metadata": {},
   "outputs": [],
   "source": [
    "# Problem parameters\n",
    "g = VectorValue(0,-1)                                            # Load\n",
    "vf = 0.3                                                         # Volume fraction constraint\n",
    "lsf_func = initial_lsf((12/Length),0.2)                          # Initial level set function\n",
    "iter_mod = 10                                                    # VTK Output modulo                        \n",
    "path = \"./Result_tol&Max_stepMod/results_$nx,$ny/N_$N/ElasticMicropolar_l_$l/$Length,$Height/comp_serial/E_$E/\"      # Output path\n",
    "mkpath(path)                                                     # Create path"
   ]
  },
  {
   "cell_type": "code",
   "execution_count": null,
   "id": "64130baf-8bb4-46d2-b502-3f021d48997b",
   "metadata": {},
   "outputs": [],
   "source": [
    "function σ_Bmod(ε)\n",
    "    σM = ((λₘₐₜ)*tr(ε)*one(ε) + (2*μₘₐₜ + κₘₐₜ)*(ε))\n",
    "    return σM\n",
    "end\n",
    "\n",
    "E_Matrx = TensorValue(0,1,-1,0)\n",
    "\n",
    "function ε_Skw(∇,θ)\n",
    "    ∇ᵀ = transpose(∇)\n",
    "    w = (0.5*(∇ᵀ - ∇)) - (E_Matrx*θ)\n",
    "    return w\n",
    "end\n",
    "\n",
    "function σ_Cmod(ϵ_skew)\n",
    "    σM = κₘₐₜ*ϵ_skew\n",
    "    return σM\n",
    "end\n",
    "\n",
    "function M_mod(∇)\n",
    "    M = γₘₐₜ*∇\n",
    "    return M\n",
    "end\n",
    "\n",
    "function Skw(u,θ)\n",
    "    ∇ᵀ = transpose(∇(u))\n",
    "    w = (0.5*(∇ᵀ - ∇(u)) - (E_Matrx*θ))\n",
    "    return w\n",
    "end\n",
    "\n",
    "function ElasEnergy(ε_in)\n",
    "    ElasEner = 0.5*(λₘₐₜ)*(tr(ε_in) * tr(ε_in)) + (μₘₐₜ + 0.5*κₘₐₜ)*(ε_in ⊙ ε_in)\n",
    "    TotElasEner = sum(∫(ElasEner)*dΩ)\n",
    "    return TotElasEner\n",
    "end\n",
    "\n",
    "function RotationEnergy(∇_th) #∇_th = ∇(θ)\n",
    "    RotEnergy = 0.5*γₘₐₜ*(∇_th ⋅ ∇_th)\n",
    "    TotRotEnergy = sum(∫(RotEnergy)*dΩ)\n",
    "    return TotRotEnergy\n",
    "end\n",
    "\n",
    "function CouplingEnergy(∇_uh,θ)\n",
    "    ∇_uhᵀ = transpose(∇_uh)\n",
    "    ϵ_skew = 0.5*(∇_uhᵀ - ∇_uh) - E_Matrx*θ\n",
    "    coupEnergy = 0.5*(κₘₐₜ*(ϵ_skew ⊙ ϵ_skew))\n",
    "    TotcoupEnergy = sum(∫(coupEnergy)*dΩ)\n",
    "    return TotcoupEnergy\n",
    "end"
   ]
  },
  {
   "cell_type": "code",
   "execution_count": null,
   "id": "9889e0ba-c997-40c5-9e40-e40001ba2713",
   "metadata": {},
   "outputs": [],
   "source": [
    "# Model\n",
    "model = CartesianDiscreteModel(dom,el_size);\n",
    "update_labels!(1,model,f_Γ_D1,\"Gamma_D1\")\n",
    "update_labels!(2,model,f_Γ_D2,\"Gamma_D2\")\n",
    "update_labels!(3,model,f_Γ_N,\"Gamma_N\")"
   ]
  },
  {
   "cell_type": "code",
   "execution_count": null,
   "id": "976eefbb-7d08-45c8-885c-5a398850d5e3",
   "metadata": {},
   "outputs": [],
   "source": [
    "writevtk(model,path*\"Half_MBBExampleI\")"
   ]
  },
  {
   "cell_type": "code",
   "execution_count": null,
   "id": "c3575efb-7392-4b43-80d7-d24e0b1c4860",
   "metadata": {},
   "outputs": [],
   "source": [
    "# Triangulation and measures\n",
    "Ω = Triangulation(model)\n",
    "Γ_N = BoundaryTriangulation(model,tags=\"Gamma_N\")\n",
    "dΩ = Measure(Ω,2*order)\n",
    "dΓ_N = Measure(Γ_N,2*order)\n",
    "vol_D = sum(∫(1)dΩ)"
   ]
  },
  {
   "cell_type": "code",
   "execution_count": null,
   "id": "96c7e3e2-707c-497e-b57e-1378695c9b43",
   "metadata": {},
   "outputs": [],
   "source": [
    "## Spaces\n",
    "reffe = ReferenceFE(lagrangian,VectorValue{2,Float64},order)\n",
    "reffe_scalar = ReferenceFE(lagrangian,Float64,order)\n",
    "V = TestFESpace(model,reffe;conformity=:H1,dirichlet_tags=[\"Gamma_D1\",\"Gamma_D2\"],dirichlet_masks = [(true,false),(false,true)])\n",
    "U = TrialFESpace(V,[VectorValue(0.0,0.0),VectorValue(0.0,0.0)])   ## Dispalcement Space\n",
    "Q = TestFESpace(model,reffe_scalar;conformity=:H1)\n",
    "P = TrialFESpace(Q)"
   ]
  },
  {
   "cell_type": "code",
   "execution_count": null,
   "id": "7e952893-bc7c-4eb8-b074-d18b42d0c17c",
   "metadata": {},
   "outputs": [],
   "source": [
    "UP = MultiFieldFESpace([U,P])\n",
    "VQ = MultiFieldFESpace([V,Q])"
   ]
  },
  {
   "cell_type": "code",
   "execution_count": null,
   "id": "11334781-c262-4639-9814-9c7d12c45b44",
   "metadata": {},
   "outputs": [],
   "source": [
    "V_φ = TestFESpace(model,reffe_scalar)\n",
    "V_reg = TestFESpace(model,reffe_scalar)\n",
    "U_reg = TrialFESpace(V_reg)"
   ]
  },
  {
   "cell_type": "code",
   "execution_count": null,
   "id": "ba51dc0e-07a1-4996-9521-de25a03429df",
   "metadata": {},
   "outputs": [],
   "source": [
    "# Level set and interpolator\n",
    "φh = interpolate(lsf_func,V_φ)\n",
    "interp = SmoothErsatzMaterialInterpolation(η = (2)*maximum(get_el_Δ(model)))    # η = 2 ×  maximum side length of an element.\n",
    "I,H,DH,ρ = interp.I,interp.H,interp.DH,interp.ρ"
   ]
  },
  {
   "cell_type": "code",
   "execution_count": null,
   "id": "d653077e-c75f-4c4f-a7a7-02bde4f4e55d",
   "metadata": {},
   "outputs": [],
   "source": [
    "writevtk(Ω,path*\"initial_lsfHalfMBBI\",cellfields=[\"phi\"=>φh,\n",
    "  \"ρ(phi)\"=>(ρ ∘ φh),\"|nabla(phi)|\"=>(norm ∘ ∇(φh))])"
   ]
  },
  {
   "cell_type": "code",
   "execution_count": null,
   "id": "e2485571-c428-4ad3-b816-d4774e061f1a",
   "metadata": {},
   "outputs": [],
   "source": [
    "a((u,θ),(w,v),φ) = ∫((I ∘ φ)*((ε(w) ⊙ (σ_Bmod∘(ε(u))) ) + ((Skw(w,v)) ⊙ (σ_Cmod∘(ε_Skw∘(∇(u),θ)))) + ((∇(v))⋅ (M_mod∘(∇(θ)))) - ((v*((E_Matrx) ⊙ (σ_Cmod∘(ε_Skw∘(∇(u),θ))))) )))dΩ;\n",
    "\n",
    "lm((w,v),φ) = ∫(w·g)dΓ_N\n"
   ]
  },
  {
   "cell_type": "code",
   "execution_count": null,
   "id": "83061639-3189-4a0e-80ad-a2ac99727725",
   "metadata": {},
   "outputs": [],
   "source": [
    "state_map = RepeatingAffineFEStateMap(1, a, [lm],UP,VQ,V_φ)"
   ]
  },
  {
   "cell_type": "code",
   "execution_count": null,
   "id": "98ae4f07-7589-441e-9d63-6b6a5464978c",
   "metadata": {},
   "outputs": [],
   "source": [
    "evo = FiniteDifferenceEvolver(FirstOrderStencil(2,Float64),model,V_φ;max_steps)\n",
    "reinit = FiniteDifferenceReinitialiser(FirstOrderStencil(2,Float64),model,V_φ;tol,γ_reinit)\n",
    "ls_evo = LevelSetEvolution(evo,reinit)"
   ]
  },
  {
   "cell_type": "code",
   "execution_count": null,
   "id": "abc75f46-8f1c-46cd-908d-b152ff8b7270",
   "metadata": {},
   "outputs": [],
   "source": [
    "function Cᴴ(r,s,uϕ,φ,dΩ,dΓ_N)\n",
    "    u_s = uϕ[2s-1]; θ_s = uϕ[2s];\n",
    "    ∫((u_s)·g)dΓ_N \n",
    "end\n",
    "\n",
    "J(uϕ,φ) = 1*Cᴴ(1,1,uϕ,φ,dΩ,dΓ_N)\n",
    "C1(uϕ,φ) = ∫(((ρ ∘ φ) - vf)/vol_D)dΩ;"
   ]
  },
  {
   "cell_type": "code",
   "execution_count": null,
   "id": "c2746c5c-e809-47c6-98bc-e6e1a2cf7934",
   "metadata": {},
   "outputs": [],
   "source": [
    "DC1(q,uϕ,φ) = ∫(-1/vol_D*q*(DH ∘ φ)*(norm ∘ ∇(φ)))dΩ"
   ]
  },
  {
   "cell_type": "code",
   "execution_count": null,
   "id": "7d57486f-ad2b-4f39-9896-3cfea6e1739f",
   "metadata": {},
   "outputs": [],
   "source": [
    "pcfs = PDEConstrainedFunctionals(J,[C1],state_map,analytic_dJ=nothing,analytic_dC=[DC1])"
   ]
  },
  {
   "cell_type": "code",
   "execution_count": null,
   "id": "24868fb9-7d8c-4780-9865-557453602683",
   "metadata": {},
   "outputs": [],
   "source": [
    "α = 4max_steps*γ*maximum(get_el_Δ(model))\n",
    "a_hilb(p,q) = ∫(α^2*∇(p)⋅∇(q) + p*q)dΩ;\n",
    "vel_ext = VelocityExtension(a_hilb,U_reg,V_reg)"
   ]
  },
  {
   "cell_type": "code",
   "execution_count": null,
   "id": "d3acbac3-cc9f-4870-b875-b841be689a96",
   "metadata": {},
   "outputs": [],
   "source": [
    "# ## Optimiser\n",
    "optimiser = AugmentedLagrangian(pcfs,ls_evo,vel_ext,φh;γ,verbose=true,constraint_names=[:Vol])"
   ]
  },
  {
   "cell_type": "code",
   "execution_count": null,
   "id": "b6880f8c-c549-452f-bcda-abd884c3cdee",
   "metadata": {
    "scrolled": true
   },
   "outputs": [],
   "source": [
    "for (it,uh,φh) in optimiser\n",
    "    uv, θv = uh\n",
    "    data = [\"φ\"=>φh,\"H(φ)\"=>(H ∘ φh),\"|∇(φ)|\"=>(norm ∘ ∇(φh)),\"uv\"=>uv,\"θv\"=>θv,\"ρ(φ)\"=>(ρ ∘ φh)]\n",
    "    iszero(it % iter_mod) && writevtk(Ω,path*\"out$it\",cellfields= data) \n",
    "    write_history(path*\"/historymodified$tol,max_steps-$max_steps.txt\",optimiser.history)\n",
    "end"
   ]
  },
  {
   "cell_type": "code",
   "execution_count": null,
   "id": "cc112e08-3623-488f-88a2-c1db4768d153",
   "metadata": {},
   "outputs": [],
   "source": [
    "it = get_history(optimiser).niter; uh = get_state(pcfs);\n",
    "uv, θv = uh \n",
    "writevtk(Ω,path*\"out$it,max_step-$max_steps, tol-$tol\",cellfields=[\"φ\"=>φh,\"H(φ)\"=>(H ∘ φh),\"|∇(φ)|\"=>(norm ∘ ∇(φh)),\"uv\"=>uv,\"θv\"=>θv])"
   ]
  },
  {
   "cell_type": "code",
   "execution_count": null,
   "id": "12bde83e-3756-4f0e-b28d-249e198ad4a7",
   "metadata": {},
   "outputs": [],
   "source": [
    "WElas = ElasEnergy(ε(uv))"
   ]
  },
  {
   "cell_type": "code",
   "execution_count": null,
   "id": "6ace0f03-aa77-4558-a27e-9d6dbfe57168",
   "metadata": {},
   "outputs": [],
   "source": [
    "WRot = RotationEnergy(∇(θv))"
   ]
  },
  {
   "cell_type": "code",
   "execution_count": null,
   "id": "0ca38687-0820-414f-82db-e04ad571765e",
   "metadata": {},
   "outputs": [],
   "source": [
    "WElas = CouplingEnergy(∇(uv),θv)"
   ]
  }
 ],
 "metadata": {
  "kernelspec": {
   "display_name": "Julia 1.10.10",
   "language": "julia",
   "name": "julia-1.10"
  },
  "language_info": {
   "file_extension": ".jl",
   "mimetype": "application/julia",
   "name": "julia",
   "version": "1.10.10"
  }
 },
 "nbformat": 4,
 "nbformat_minor": 5
}
