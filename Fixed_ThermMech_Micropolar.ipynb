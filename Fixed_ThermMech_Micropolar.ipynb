{
 "cells": [
  {
   "cell_type": "markdown",
   "id": "0c858e59-9e5b-4572-83a5-cf130e3ad116",
   "metadata": {},
   "source": [
    "## Packages required"
   ]
  },
  {
   "cell_type": "code",
   "execution_count": null,
   "id": "38d26f95-7c09-4edb-8a2d-27ebdeb33cf8",
   "metadata": {},
   "outputs": [],
   "source": [
    "using GridapTopOpt, Gridap, Gridap.TensorValues"
   ]
  },
  {
   "cell_type": "markdown",
   "id": "75d1dd88-19e5-466e-a987-99e3230f6ce2",
   "metadata": {},
   "source": [
    "## Initial material properties"
   ]
  },
  {
   "cell_type": "code",
   "execution_count": null,
   "id": "bf299b02-40f5-46df-9b4f-701c2a85ff40",
   "metadata": {},
   "outputs": [],
   "source": [
    "const E = 30e3        # Young's Modulus\n",
    "const ν = 0.3         # Poison ratio\n",
    "const G = E/(2*(1+ν))\n",
    "const α_mat = 12e-6  #(Thermal expansion coeffiicent)\n",
    "const κ_mat =  1.0   #(Thermal conductivity)\n",
    "\n",
    "const Height = 10\n",
    "const Length = 3*Height\n",
    "\n",
    "const l = Height/5    # Bending length scale\n",
    "const N = 0.5         # Micropolar parameter\n",
    "\n",
    "# const λₘₐₜ = 2*G*ν/(1 -2*ν)  ## For plain strain\n",
    "# const κₘₐₜ = 2*G*N^2/(1-N^2)\n",
    "# const μₘₐₜ = G*(1-2*(N^2))/(1-N^2)\n",
    "# const γₘₐₜ = 4*G*l^2\n",
    "\n",
    "const λₘₐₜ = E*ν/(1-ν^2)  # Modified λ for plane stress (critical change!)   #2*G*ν/(1 -2*ν)\n",
    "const κₘₐₜ = 2*G*N^2/(1-N^2)\n",
    "const μₘₐₜ = G*(1-2*(N^2))/(1-N^2)\n",
    "const γₘₐₜ = 4*G*l^2\n",
    "\n",
    "const  T0 = 0.0     # Initial temperature in the domain   \n",
    "const  TApp = 20.0  # Applied temperature at the boundary\n",
    "const  fApp = 10    # Mechanical load"
   ]
  },
  {
   "cell_type": "code",
   "execution_count": null,
   "id": "4fa78fbf-7ae7-4bc0-8b29-3c4959f01685",
   "metadata": {},
   "outputs": [],
   "source": [
    "# FE parameters\n",
    "order = 1                                                        # Finite element order\n",
    "dom = (0,Length,0,Height)                                        # Bounding domain\n",
    "nx,ny = (225,75)\n",
    "el_size = (nx,ny)\n",
    "model = CartesianDiscreteModel(dom, el_size)                     # Initialize the model\n",
    "el_Δ = get_el_Δ(model)\n",
    "shift = 0.05\n",
    "f_Γ_D_1(x) = (x[1] ≈ 0.0)                                        # Left side\n",
    "f_Γ_D_2(x) = (x[1] ≈ Length)                                     # Right side                                               \n",
    "f_Γ_D_3(x) = (x[2] ≈ 0.0) && ((x[1] < Length/2 - Length/40) || (x[1] > Length/2 + Length/40)) # Bottom face\n",
    "f_Γ_D_4(x) = (x[2] ≈ Height)  # Top face\n",
    "f_Γ_D_5(x) = (Length/4 - Length/60 <= x[1] <= Length/4 + Length/60) && (Height/2 - Height/50 <= x[2] <= Height/2 + Height/50) # Left source\n",
    "f_Γ_D_6(x) = (3*Length/4 - Length/60 <= x[1] <= 3*Length/4 + Length/60) && (Height/2 - Height/50 <= x[2] <= Height/2 + Height/50) # Right source\n",
    "                                                                                \n",
    "f_Γ_N(x) = (x[2] ≈ 0.0) && (Length/2 - Length/40 <= x[1] <= Length/2 + Length/40 )            # Γ_N indicator function\n",
    "\n",
    "update_labels!(1,model,f_Γ_D_1,\"Gamma_D_1\")                                 \n",
    "\n",
    "update_labels!(3,model,f_Γ_D_2,\"Gamma_D_2\")\n",
    "\n",
    "update_labels!(4,model,f_Γ_D_3,\"Gamma_D_3\")\n",
    "\n",
    "update_labels!(5,model,f_Γ_D_4,\"Gamma_D_4\")\n",
    "\n",
    "update_labels!(6,model,f_Γ_D_5,\"Gamma_D_5\")\n",
    "\n",
    "update_labels!(7,model,f_Γ_D_6,\"Gamma_D_6\")\n",
    "\n",
    "update_labels!(2,model,f_Γ_N,\"Gamma_N\")"
   ]
  },
  {
   "cell_type": "code",
   "execution_count": null,
   "id": "de01465a-b6e0-4a14-bc01-2d6589a6a447",
   "metadata": {},
   "outputs": [],
   "source": [
    "# FD parameters\n",
    "γ = 0.1                                                          # HJ eqn time step coeff\n",
    "γ_reinit = 0.5                                                   # Reinit. eqn time step coeff\n",
    "max_steps = 45                                                   # Max steps for advection \n",
    "tol = 1e-6                                                       # Reinitialisation tolerance                                   "
   ]
  },
  {
   "cell_type": "code",
   "execution_count": null,
   "id": "088ca067-0b25-441e-811a-54c319208d6a",
   "metadata": {},
   "outputs": [],
   "source": [
    "I2 = SymTensorValue{2,Float64}(1.0 ,0.0 ,1.0)\n",
    "\n",
    "E_Matrx = TensorValue(0,1,-1,0)\n",
    "\n",
    "### New CartesianDiscreteModel\n",
    "\n",
    "function σ_Tot(ε)\n",
    "    # Plane stress mechanical stress (λₘₐₜ now uses plane stress version)\n",
    "    σM = λₘₐₜ*tr(ε)*one(ε) + (2*μₘₐₜ + κₘₐₜ)*ε\n",
    "    return σM\n",
    "end\n",
    "\n",
    "function σ_Temp(T)\n",
    "    # Plane stress thermal stress: α → α*(1+ν) for plane stress\n",
    "    ε_th = -α_mat * (1+ν) * T * I2  # Note: (1+ν) factor added!\n",
    "    σM = λₘₐₜ*tr(ε_th)*one(ε_th) + (2*μₘₐₜ + κₘₐₜ)*ε_th\n",
    "    return σM\n",
    "end\n",
    "\n",
    "function σ_Temp0(T0)\n",
    "    ε_th = -α_mat * (1+ν) * T0 * I2  # Same adjustment\n",
    "    σM = λₘₐₜ*tr(ε_th)*one(ε_th) + (2*μₘₐₜ + κₘₐₜ)*ε_th\n",
    "    return σM\n",
    "end\n",
    "\n",
    "# Micropolar and conduction terms remain UNCHANGED\n",
    "function k_gradTemp(∇)\n",
    "    return κ_mat * ∇\n",
    "end\n",
    "\n",
    "function ε_Skw(∇, θ)\n",
    "    ∇ᵀ = transpose(∇)\n",
    "    return 0.5*(∇ᵀ - ∇) - (E_Matrx*θ)\n",
    "end\n",
    "\n",
    "function σ_Cmod(ϵ_skew)\n",
    "    return κₘₐₜ*ϵ_skew\n",
    "end\n",
    "\n",
    "function M_mod(∇)\n",
    "    return γₘₐₜ*∇\n",
    "end\n",
    "\n",
    "function Skw(u, θ)\n",
    "    ∇u = ∇(u)\n",
    "    ∇ᵀ = transpose(∇u)\n",
    "    return 0.5*(∇ᵀ - ∇u) - (E_Matrx*θ)\n",
    "end"
   ]
  },
  {
   "cell_type": "code",
   "execution_count": null,
   "id": "a1ea7bed-8d81-4561-bf48-3eec77abe772",
   "metadata": {},
   "outputs": [],
   "source": [
    "# Problem parameters\n",
    "g = VectorValue(0,-fApp)                                            # Load applied\n",
    "vf = 0.5                                                         # Volume fraction constraint\n",
    "lsf_func = initial_lsf((12/Length),0.1)                 # Initial level set function\n",
    "iter_mod = 10                                                    # VTK Output modulo                        \n",
    "path = \"./Result_tol&Max_stepMod/TApp-$TApp,fApp-$fApp/Mesh-$nx,$ny/N_$N/ElasticMicropolar_l_$l/Dim_$Length,$Height/E_$E/\"      # Output path\n",
    "mkpath(path)                                                     # Create path"
   ]
  },
  {
   "cell_type": "code",
   "execution_count": null,
   "id": "fb0ae42d-b178-4e16-b508-f6a476720783",
   "metadata": {},
   "outputs": [],
   "source": [
    "writevtk(model,path*\"FixedExampleII\")\n",
    "\n",
    "## Triangulations and measures\n",
    "Ω = Triangulation(model)\n",
    "dΩ = Measure(Ω,2*order)\n",
    "Γ_N = BoundaryTriangulation(model,tags=\"Gamma_N\")\n",
    "dΓ_N = Measure(Γ_N,2*order)\n",
    "# Γ_N_Therm = BoundaryTriangulation(model,tags=[\"Gamma_D_5\",\"Gamma_D_6\"])\n",
    "# dΓ_N_Therm = Measure(Γ_N_Therm,2*order)\n",
    "vol_D = sum(∫(1)dΩ)"
   ]
  },
  {
   "cell_type": "code",
   "execution_count": null,
   "id": "cea52f61-f43f-4f22-826e-de52a5f459d1",
   "metadata": {},
   "outputs": [],
   "source": [
    "## Spaces\n",
    "reffe = ReferenceFE(lagrangian,VectorValue{2,Float64},order)\n",
    "reffe_scalar = ReferenceFE(lagrangian,Float64,order)\n",
    "V = TestFESpace(model,reffe;conformity=:H1,dirichlet_tags=[\"Gamma_D_1\",\"Gamma_D_2\"],dirichlet_masks = [(true, true),(true, true)])\n",
    "U = TrialFESpace(V,[VectorValue(0.0,0.0),VectorValue(0.0,0.0)])   ## Dispalcement Space\n",
    "\n",
    "R = TestFESpace(model,reffe_scalar;conformity=:H1,dirichlet_tags=[\"Gamma_D_1\",\"Gamma_D_2\"],dirichlet_masks = [(true),(true)])\n",
    "S = TrialFESpace(R,[0.0,0.0]) # theta(Micro-Rotation)\n",
    "\n",
    "Q = TestFESpace(model,reffe_scalar;conformity=:H1,dirichlet_tags=[\"Gamma_D_1\",\"Gamma_D_2\",\"Gamma_D_3\",\"Gamma_D_4\",\"Gamma_D_5\",\"Gamma_D_6\",\"Gamma_N\"],dirichlet_masks = [(true),(true),(true),(true),(true),(true),(true)])\n",
    "P = TrialFESpace(Q,[T0,T0,TApp,T0,TApp,TApp,TApp]) "
   ]
  },
  {
   "cell_type": "code",
   "execution_count": null,
   "id": "9187bb78-7e6a-4a06-b80d-5c685b6f2ed3",
   "metadata": {},
   "outputs": [],
   "source": [
    "USP = MultiFieldFESpace([U,S,P])\n",
    "VRQ = MultiFieldFESpace([V,R,Q])"
   ]
  },
  {
   "cell_type": "code",
   "execution_count": null,
   "id": "dc3645ae-0acd-4759-b5a1-933b14b53f55",
   "metadata": {},
   "outputs": [],
   "source": [
    "V_φ = TestFESpace(model,reffe_scalar)\n",
    "V_reg = TestFESpace(model,reffe_scalar,dirichlet_tags=[\"Gamma_N\"])\n",
    "U_reg = TrialFESpace(V_reg,[0.0])"
   ]
  },
  {
   "cell_type": "code",
   "execution_count": null,
   "id": "ac4b4efe-4416-4380-8599-6b14940cbd12",
   "metadata": {},
   "outputs": [],
   "source": [
    "# Level set and interpolator\n",
    "φh = interpolate(lsf_func,V_φ)\n",
    "interp₁ = SmoothErsatzMaterialInterpolation(η = (2)*maximum(get_el_Δ(model)),ϵ = 10^-9)    # η = 2 ×  maximum side length of an element.\n",
    "I₁,H,DH,ρ = interp₁.I,interp₁.H,interp₁.DH,interp₁.ρ\n",
    "interp₂ = SmoothErsatzMaterialInterpolation(η = (2)*maximum(get_el_Δ(model)),ϵ = 0.03)    # η = 2 ×  maximum side length of an element.\n",
    "I₂ = interp₁.I"
   ]
  },
  {
   "cell_type": "code",
   "execution_count": null,
   "id": "bfa999b3-a389-4ce6-8273-8dbe29af893f",
   "metadata": {},
   "outputs": [],
   "source": [
    "writevtk(Ω,path*\"initial_lsfFixedII\",cellfields=[\"phi\"=>φh,\n",
    "  \"ρ(phi)\"=>(ρ ∘ φh),\"|nabla(phi)|\"=>(norm ∘ ∇(φh))])"
   ]
  },
  {
   "cell_type": "code",
   "execution_count": null,
   "id": "cc6c89d7-0879-411b-a676-4777e00a4077",
   "metadata": {},
   "outputs": [],
   "source": [
    "a((u,θ,T),(w,v,z),φ)  = ∫((I₁ ∘ φ)*( (ε(w) ⊙ (σ_Tot∘(ε(u)))) +  (ε(w) ⊙ (σ_Temp∘(T)))\n",
    "                                  + ((Skw(w,v)) ⊙ (σ_Cmod∘(ε_Skw∘(∇(u),θ))) ) +  ((∇(v))⋅ (M_mod∘(∇(θ)))) \n",
    "                                  - (v*((E_Matrx) ⊙ (σ_Cmod∘(ε_Skw∘(∇(u),θ)))))))dΩ + ∫((I₂ ∘ φ)*((∇(z) ⋅ (k_gradTemp∘(∇(T)))) ))dΩ\n",
    "\n",
    "lm((w,v,z),φ)= ∫((I₁ ∘ φ)*(ε(w) ⊙ (σ_Temp0(T0))))dΩ + ∫(w ⋅ g)dΓ_N "
   ]
  },
  {
   "cell_type": "code",
   "execution_count": null,
   "id": "152ec86e-4092-452a-bde5-26b48db30ec3",
   "metadata": {},
   "outputs": [],
   "source": [
    "state_map = RepeatingAffineFEStateMap(1, a, [lm],USP,VRQ,V_φ)"
   ]
  },
  {
   "cell_type": "code",
   "execution_count": null,
   "id": "4940003f-5220-43eb-a223-d2badea3a815",
   "metadata": {},
   "outputs": [],
   "source": [
    "evo = FiniteDifferenceEvolver(FirstOrderStencil(2,Float64),model,V_φ;max_steps)\n",
    "  reinit = FiniteDifferenceReinitialiser(FirstOrderStencil(2,Float64),model,V_φ;tol,γ_reinit)\n",
    "  ls_evo = LevelSetEvolution(evo,reinit)"
   ]
  },
  {
   "cell_type": "code",
   "execution_count": null,
   "id": "73d892da-bd06-4321-8cde-328e5021093b",
   "metadata": {},
   "outputs": [],
   "source": [
    "function C_plane_stress(λₘₐₜ,μₘₐₜ,κₘₐₜ)\n",
    "    λ = λₘₐₜ  # Plane stress λ\n",
    "    μ = μₘₐₜ\n",
    "    κ = κₘₐₜ\n",
    "    return SymFourthOrderTensorValue{2}(\n",
    "        λ+(2μ+κ), 0.0, λ,\n",
    "        0.0, μ+(κ/2), 0.0,\n",
    "        λ, 0.0, λ+(2μ+κ)\n",
    "    )\n",
    "end\n",
    "\n",
    "C2 = C_plane_stress(λₘₐₜ,μₘₐₜ,κₘₐₜ)"
   ]
  },
  {
   "cell_type": "code",
   "execution_count": null,
   "id": "52ca42ea-ac3e-4771-943f-f263643300ad",
   "metadata": {},
   "outputs": [],
   "source": [
    "function Cᴴ(r,s,uϕ,φ,dΩ,dΓ_N)\n",
    "    u_s = uϕ[2s-1]; θ_s = uϕ[2s]; T_s = uϕ[2s+1]\n",
    "    ∫((I₁ ∘ φ)*(C2 ⊙ (ε(u_s) - α_mat*(T_s-T0)*I2) ⊙ (ε(u_s)- α_mat*(T_s-T0)*I2)))dΩ \n",
    "end\n",
    "\n",
    "\n",
    "J(uϕ,φ) = 1*Cᴴ(1,1,uϕ,φ,dΩ,dΓ_N)\n",
    "C1(uϕ,φ) = ∫(((ρ ∘ φ) - vf)/vol_D)dΩ;"
   ]
  },
  {
   "cell_type": "code",
   "execution_count": null,
   "id": "0ad17288-539f-4bdb-b914-21298902404d",
   "metadata": {},
   "outputs": [],
   "source": [
    "DC1(q,uϕ,φ) = ∫(-1/vol_D*q*(DH ∘ φ)*(norm ∘ ∇(φ)))dΩ"
   ]
  },
  {
   "cell_type": "code",
   "execution_count": null,
   "id": "1ae63ca9-7952-413c-9c38-09a0dcafc35f",
   "metadata": {},
   "outputs": [],
   "source": [
    "pcfs = PDEConstrainedFunctionals(J,[C1],state_map,analytic_dJ=nothing,analytic_dC=[DC1])"
   ]
  },
  {
   "cell_type": "code",
   "execution_count": null,
   "id": "505e37f0-b659-4bfd-9739-e5d7af0f29a0",
   "metadata": {},
   "outputs": [],
   "source": [
    "α = 4max_steps*γ*maximum(get_el_Δ(model))\n",
    "a_hilb(p,q) = ∫(α^2*∇(p)⋅∇(q) + p*q)dΩ;\n",
    "vel_ext = VelocityExtension(a_hilb,U_reg,V_reg)"
   ]
  },
  {
   "cell_type": "code",
   "execution_count": null,
   "id": "ccbfe837-2512-4850-9e10-da9e7ce5acaf",
   "metadata": {},
   "outputs": [],
   "source": [
    "function mine_al_converged(\n",
    "  m::AugmentedLagrangian;\n",
    "  L_tol = 1e-6,\n",
    "  C_tol = 1e-3,\n",
    "  window = 10\n",
    ")\n",
    "  h = m.history\n",
    "  it = h.niter\n",
    "  if it <= window\n",
    "    return false\n",
    "  end\n",
    "\n",
    "  # objective stability\n",
    "  Li = h[:L,it]\n",
    "  L_prev = h[:L,it-window:it-1]\n",
    "  A = abs(Li - mean(L_prev)) / max(abs(Li), 1.0) < L_tol\n",
    "\n",
    "  # constraint satisfaction\n",
    "  Ci = h[:C,it]\n",
    "  B = maximum(abs.(Ci)) < C_tol\n",
    "\n",
    "  return A && B\n",
    "end"
   ]
  },
  {
   "cell_type": "code",
   "execution_count": null,
   "id": "d980fbd1-36ac-45fe-8f2c-a9af3b83a5a3",
   "metadata": {},
   "outputs": [],
   "source": [
    "# ## Optimiser\n",
    "optimiser = AugmentedLagrangian(pcfs,ls_evo,vel_ext,φh;maxiter = 250,γ,verbose=true,constraint_names=[:Vol],converged=mine_al_converged)"
   ]
  },
  {
   "cell_type": "code",
   "execution_count": null,
   "id": "85cd8a23-5721-4859-966c-78e86ded759e",
   "metadata": {
    "scrolled": true
   },
   "outputs": [],
   "source": [
    "for (it,uh,φh) in optimiser\n",
    "    uv,θv,Tv = uh\n",
    "    data = [\"φ\"=>φh,\"H(φ)\"=>(H ∘ φh),\"|∇(φ)|\"=>(norm ∘ ∇(φh)),\"uv\"=>uv,\"θv\"=>θv,\"Tv\"=>Tv,\"ρ(φ)\"=>(ρ ∘ φh)]\n",
    "    iszero(it % iter_mod) && writevtk(Ω,path*\"out$it\",cellfields= data) \n",
    "    write_history(path*\"/historymodified$tol,max_steps-$max_steps.txt\",optimiser.history)\n",
    "end"
   ]
  },
  {
   "cell_type": "code",
   "execution_count": null,
   "id": "b900a2f5-a6a3-40b6-9401-caeb0d3dac50",
   "metadata": {},
   "outputs": [],
   "source": [
    "it = get_history(optimiser).niter; uh = get_state(pcfs);\n",
    "uv,θv,Tv = uh\n",
    "writevtk(Ω,path*\"out$it;max_step-$max_steps;tol-$tol\",cellfields=[\"φ\"=>φh,\"H(φ)\"=>(H ∘ φh),\"|∇(φ)|\"=>(norm ∘ ∇(φh)),\"uv\"=>uv,\"θv\"=>θv,\"Tv\"=>Tv,\"ρ(φ)\"=>(ρ ∘ φh)])"
   ]
  }
 ],
 "metadata": {
  "kernelspec": {
   "display_name": "Julia 1.10.10",
   "language": "julia",
   "name": "julia-1.10"
  },
  "language_info": {
   "file_extension": ".jl",
   "mimetype": "application/julia",
   "name": "julia",
   "version": "1.10.10"
  }
 },
 "nbformat": 4,
 "nbformat_minor": 5
}
