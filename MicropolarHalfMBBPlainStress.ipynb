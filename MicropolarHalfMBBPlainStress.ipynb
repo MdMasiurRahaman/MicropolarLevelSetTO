{
 "cells": [
  {
   "cell_type": "code",
   "execution_count": 1,
   "id": "e49eb2ca-48e3-48ec-851e-4c25b2b8d0fd",
   "metadata": {},
   "outputs": [],
   "source": [
    "using GridapTopOpt, Gridap, Gridap.TensorValues"
   ]
  },
  {
   "cell_type": "code",
   "execution_count": 2,
   "id": "b0199227-bca5-40c3-b8f1-0a9f7085568d",
   "metadata": {},
   "outputs": [
    {
     "data": {
      "text/plain": [
       "24.615384615384613"
      ]
     },
     "execution_count": 2,
     "metadata": {},
     "output_type": "execute_result"
    }
   ],
   "source": [
    "const E = 1      #1\n",
    "const ν = 0.3    #0.35#0.3\n",
    "const G = E/(2*(1+ν))\n",
    "const l = 4.0    #2.0##0.5#1.0#1.25 # Modified\n",
    "const N = 0.3    #0.5#0#0.7\n",
    "\n",
    "# const λₘₐₜ = 2*G*ν/(1 -2*ν)\n",
    "# const κₘₐₜ = 2*G*N^2/(1-N^2)\n",
    "# const μₘₐₜ = G*(1-2*(N^2))/(1-N^2)\n",
    "# const γₘₐₜ = 4*G*l^2\n",
    "\n",
    "const λₘₐₜ = E*ν/(1-ν^2)  # Modified λ for plane stress (critical change!)   #2*G*ν/(1 -2*ν)\n",
    "const κₘₐₜ = 2*G*N^2/(1-N^2)\n",
    "const μₘₐₜ = G*(1-2*(N^2))/(1-N^2)\n",
    "const γₘₐₜ = 4*G*l^2"
   ]
  },
  {
   "cell_type": "code",
   "execution_count": 3,
   "id": "ee2d8ccd-37ed-4064-8851-9b4ac5526713",
   "metadata": {},
   "outputs": [
    {
     "data": {
      "text/plain": [
       "30"
      ]
     },
     "execution_count": 3,
     "metadata": {},
     "output_type": "execute_result"
    }
   ],
   "source": [
    "const Height = 10\n",
    "const Length = 3*Height"
   ]
  },
  {
   "cell_type": "code",
   "execution_count": 4,
   "id": "e69a1da4-79cb-4ca2-801c-1d3b1630b3c4",
   "metadata": {},
   "outputs": [
    {
     "data": {
      "text/plain": [
       "f_Γ_D2 (generic function with 1 method)"
      ]
     },
     "execution_count": 4,
     "metadata": {},
     "output_type": "execute_result"
    }
   ],
   "source": [
    "# FE parameters\n",
    "order = 1                                                        # Finite element order\n",
    "dom = (0,Length,0,Height)                                            # Bounding domain\n",
    "nx,ny = (300,100)#(113,57)#(150,75)\n",
    "el_size = (nx,ny)#(300,100)                                              # Mesh partition size\n",
    "f_Γ_N(x) = (x[2] ≈ Height) &&                                       # Γ_N indicator function\n",
    "    (0.0 <= x[1] <= 5*Length/nx)\n",
    "f_Γ_D1(x) = (x[1] ≈ 0.0)\n",
    "f_Γ_D2(x) = (x[1] ≈ Length) && (x[2] ≈ 0.0)"
   ]
  },
  {
   "cell_type": "code",
   "execution_count": 5,
   "id": "633633be-8a1b-4b56-95c1-069ded3c960e",
   "metadata": {},
   "outputs": [
    {
     "data": {
      "text/plain": [
       "1.0e-6"
      ]
     },
     "execution_count": 5,
     "metadata": {},
     "output_type": "execute_result"
    }
   ],
   "source": [
    "# FD parameters\n",
    "γ = 0.1                                                          # HJ eqn time step coeff\n",
    "γ_reinit = 0.5#0.1                                                   # Reinit. eqn time step coeff\n",
    "max_steps = 45#20#25#floor(Int,order*maximum(el_size)/10)                 # Max steps for advection\n",
    "#tol = 1/(5order^2)/minimum(el_size)#0.00007#1/(5order^2)/minimum(el_size)                             \n",
    "tol =1e-6#1/(5order^2*Length^2)#/minimum(el_size)                              # Reinitialisation tolerance"
   ]
  },
  {
   "cell_type": "code",
   "execution_count": 6,
   "id": "7b34a9f7-cddd-4e30-98d6-766d8706cb3d",
   "metadata": {},
   "outputs": [
    {
     "data": {
      "text/plain": [
       "\"./Result_tol&Max_stepMod/results_315times105/N_0.3/ElasticMicropolar_l_4.0/30,10/comp_serial/E_1\""
      ]
     },
     "execution_count": 6,
     "metadata": {},
     "output_type": "execute_result"
    }
   ],
   "source": [
    "# Problem parameters\n",
    "g = VectorValue(0,-1)                                            # Heat flow in\n",
    "vf = 0.3                                                         # Volume fraction constraint\n",
    "lsf_func = initial_lsf((12/Length),0.2)#initial_lsf((8/Length),0.2)                                    # Initial level set function\n",
    "iter_mod = 10                                                    # VTK Output modulo                        \n",
    "path = \"./Result_tol&Max_stepMod/results_315times105/N_$N/ElasticMicropolar_l_$l/$Length,$Height/comp_serial/E_1/\"      # Output path\n",
    "mkpath(path)                                                     # Create path"
   ]
  },
  {
   "cell_type": "code",
   "execution_count": 7,
   "id": "64130baf-8bb4-46d2-b502-3f021d48997b",
   "metadata": {},
   "outputs": [
    {
     "data": {
      "text/plain": [
       "CouplingEnergy (generic function with 1 method)"
      ]
     },
     "execution_count": 7,
     "metadata": {},
     "output_type": "execute_result"
    }
   ],
   "source": [
    "function σ_Bmod(ε)\n",
    "    σM = ((λₘₐₜ)*tr(ε)*one(ε) + (2*μₘₐₜ + κₘₐₜ)*(ε))\n",
    "    return σM\n",
    "end\n",
    "\n",
    "E_Matrx = TensorValue(0,1,-1,0)\n",
    "\n",
    "function ε_Skw(∇,θ)\n",
    "    ∇ᵀ = transpose(∇)\n",
    "    w = (0.5*(∇ᵀ - ∇)) - (E_Matrx*θ)\n",
    "    return w\n",
    "end\n",
    "\n",
    "function σ_Cmod(ϵ_skew)\n",
    "    σM = κₘₐₜ*ϵ_skew\n",
    "    return σM\n",
    "end\n",
    "\n",
    "function M_mod(∇)\n",
    "    M = γₘₐₜ*∇\n",
    "    return M\n",
    "end\n",
    "\n",
    "function Skw(u,θ)\n",
    "    ∇ᵀ = transpose(∇(u))\n",
    "    w = (0.5*(∇ᵀ - ∇(u)) - (E_Matrx*θ))\n",
    "    return w\n",
    "end\n",
    "\n",
    "function ElasEnergy(ε_in)\n",
    "    ElasEner = 0.5*(λₘₐₜ)*(tr(ε_in) * tr(ε_in)) + (μₘₐₜ + 0.5*κₘₐₜ)*(ε_in ⊙ ε_in)\n",
    "    TotElasEner = sum(∫(ElasEner)*dΩ)\n",
    "    return TotElasEner\n",
    "end\n",
    "\n",
    "function RotationEnergy(∇_th) #∇_th = ∇(θ)\n",
    "    RotEnergy = 0.5*γₘₐₜ*(∇_th ⋅ ∇_th)\n",
    "    TotRotEnergy = sum(∫(RotEnergy)*dΩ)\n",
    "    return TotRotEnergy\n",
    "end\n",
    "\n",
    "function CouplingEnergy(∇_uh,θ)\n",
    "    ∇_uhᵀ = transpose(∇_uh)\n",
    "    ϵ_skew = 0.5*(∇_uhᵀ - ∇_uh) - E_Matrx*θ\n",
    "    coupEnergy = 0.5*(κₘₐₜ*(ϵ_skew ⊙ ϵ_skew))\n",
    "    TotcoupEnergy = sum(∫(coupEnergy)*dΩ)\n",
    "    return TotcoupEnergy\n",
    "end"
   ]
  },
  {
   "cell_type": "code",
   "execution_count": 8,
   "id": "9889e0ba-c997-40c5-9e40-e40001ba2713",
   "metadata": {},
   "outputs": [],
   "source": [
    "# Model\n",
    "model = CartesianDiscreteModel(dom,el_size);\n",
    "update_labels!(1,model,f_Γ_D1,\"Gamma_D1\")\n",
    "update_labels!(2,model,f_Γ_D2,\"Gamma_D2\")\n",
    "update_labels!(3,model,f_Γ_N,\"Gamma_N\")"
   ]
  },
  {
   "cell_type": "code",
   "execution_count": 9,
   "id": "976eefbb-7d08-45c8-885c-5a398850d5e3",
   "metadata": {},
   "outputs": [
    {
     "data": {
      "text/plain": [
       "3-element Vector{Vector{String}}:\n",
       " [\"./Result_tol&Max_stepMod/results_315times105/N_0.3/ElasticMicropolar_l_4.0/30,10/comp_serial/E_1/Half_MBBExampleI_0.vtu\"]\n",
       " [\"./Result_tol&Max_stepMod/results_315times105/N_0.3/ElasticMicropolar_l_4.0/30,10/comp_serial/E_1/Half_MBBExampleI_1.vtu\"]\n",
       " [\"./Result_tol&Max_stepMod/results_315times105/N_0.3/ElasticMicropolar_l_4.0/30,10/comp_serial/E_1/Half_MBBExampleI_2.vtu\"]"
      ]
     },
     "execution_count": 9,
     "metadata": {},
     "output_type": "execute_result"
    }
   ],
   "source": [
    "writevtk(model,path*\"Half_MBBExampleI\")"
   ]
  },
  {
   "cell_type": "code",
   "execution_count": 10,
   "id": "c3575efb-7392-4b43-80d7-d24e0b1c4860",
   "metadata": {},
   "outputs": [
    {
     "data": {
      "text/plain": [
       "299.9999999999999"
      ]
     },
     "execution_count": 10,
     "metadata": {},
     "output_type": "execute_result"
    }
   ],
   "source": [
    "# Triangulation and measures\n",
    "Ω = Triangulation(model)\n",
    "Γ_N = BoundaryTriangulation(model,tags=\"Gamma_N\")\n",
    "dΩ = Measure(Ω,2*order)\n",
    "dΓ_N = Measure(Γ_N,2*order)\n",
    "vol_D = sum(∫(1)dΩ)"
   ]
  },
  {
   "cell_type": "code",
   "execution_count": 11,
   "id": "96c7e3e2-707c-497e-b57e-1378695c9b43",
   "metadata": {},
   "outputs": [
    {
     "data": {
      "text/plain": [
       "UnconstrainedFESpace()"
      ]
     },
     "execution_count": 11,
     "metadata": {},
     "output_type": "execute_result"
    }
   ],
   "source": [
    "## Spaces\n",
    "reffe = ReferenceFE(lagrangian,VectorValue{2,Float64},order)\n",
    "reffe_scalar = ReferenceFE(lagrangian,Float64,order)\n",
    "V = TestFESpace(model,reffe;conformity=:H1,dirichlet_tags=[\"Gamma_D1\",\"Gamma_D2\"],dirichlet_masks = [(true,false),(false,true)])\n",
    "U = TrialFESpace(V,[VectorValue(0.0,0.0),VectorValue(0.0,0.0)])   ## Dispalcement Space\n",
    "Q = TestFESpace(model,reffe_scalar;conformity=:H1)#,dirichlet_tags=[\"Gamma_D\"],dirichlet_masks = [(true)])\n",
    "P = TrialFESpace(Q)#,[0.0]) ## Theta(Rotation) Space"
   ]
  },
  {
   "cell_type": "code",
   "execution_count": 12,
   "id": "7e952893-bc7c-4eb8-b074-d18b42d0c17c",
   "metadata": {},
   "outputs": [
    {
     "data": {
      "text/plain": [
       "MultiFieldFESpace()"
      ]
     },
     "execution_count": 12,
     "metadata": {},
     "output_type": "execute_result"
    }
   ],
   "source": [
    "UP = MultiFieldFESpace([U,P])\n",
    "VQ = MultiFieldFESpace([V,Q])"
   ]
  },
  {
   "cell_type": "code",
   "execution_count": 13,
   "id": "11334781-c262-4639-9814-9c7d12c45b44",
   "metadata": {},
   "outputs": [
    {
     "data": {
      "text/plain": [
       "UnconstrainedFESpace()"
      ]
     },
     "execution_count": 13,
     "metadata": {},
     "output_type": "execute_result"
    }
   ],
   "source": [
    "V_φ = TestFESpace(model,reffe_scalar)\n",
    "V_reg = TestFESpace(model,reffe_scalar)\n",
    "U_reg = TrialFESpace(V_reg)"
   ]
  },
  {
   "cell_type": "code",
   "execution_count": 14,
   "id": "ba51dc0e-07a1-4996-9521-de25a03429df",
   "metadata": {},
   "outputs": [
    {
     "data": {
      "text/plain": [
       "(GridapTopOpt.var\"#I#298\"{GridapTopOpt.var\"#H#296\"{Vector{Float64}}, Vector{Float64}}(GridapTopOpt.var\"#H#296\"{Vector{Float64}}([0.2]), [0.001]), GridapTopOpt.var\"#H#296\"{Vector{Float64}}([0.2]), GridapTopOpt.var\"#DH#297\"{Vector{Float64}}([0.2]), GridapTopOpt.var\"#ρ#299\"{GridapTopOpt.var\"#H#296\"{Vector{Float64}}}(GridapTopOpt.var\"#H#296\"{Vector{Float64}}([0.2])))"
      ]
     },
     "execution_count": 14,
     "metadata": {},
     "output_type": "execute_result"
    }
   ],
   "source": [
    "# Level set and interpolator\n",
    "φh = interpolate(lsf_func,V_φ)\n",
    "interp = SmoothErsatzMaterialInterpolation(η = (2)*maximum(get_el_Δ(model)))    # η = 2 ×  maximum side length of an element.\n",
    "I,H,DH,ρ = interp.I,interp.H,interp.DH,interp.ρ"
   ]
  },
  {
   "cell_type": "code",
   "execution_count": 15,
   "id": "d653077e-c75f-4c4f-a7a7-02bde4f4e55d",
   "metadata": {},
   "outputs": [
    {
     "data": {
      "text/plain": [
       "([\"./Result_tol&Max_stepMod/results_315times105/N_0.3/ElasticMicropolar_l_4.0/30,10/comp_serial/E_1/initial_lsfHalfMBBI.vtu\"],)"
      ]
     },
     "execution_count": 15,
     "metadata": {},
     "output_type": "execute_result"
    }
   ],
   "source": [
    "writevtk(Ω,path*\"initial_lsfHalfMBBI\",cellfields=[\"phi\"=>φh,\n",
    "  \"ρ(phi)\"=>(ρ ∘ φh),\"|nabla(phi)|\"=>(norm ∘ ∇(φh))])"
   ]
  },
  {
   "cell_type": "code",
   "execution_count": 16,
   "id": "e2485571-c428-4ad3-b816-d4774e061f1a",
   "metadata": {},
   "outputs": [
    {
     "data": {
      "text/plain": [
       "lm (generic function with 1 method)"
      ]
     },
     "execution_count": 16,
     "metadata": {},
     "output_type": "execute_result"
    }
   ],
   "source": [
    "a((u,θ),(w,v),φ) = ∫((I ∘ φ)*((ε(w) ⊙ (σ_Bmod∘(ε(u))) ) + ((Skw(w,v)) ⊙ (σ_Cmod∘(ε_Skw∘(∇(u),θ)))) + ((∇(v))⋅ (M_mod∘(∇(θ)))) - ((v*((E_Matrx) ⊙ (σ_Cmod∘(ε_Skw∘(∇(u),θ))))) )))dΩ;\n",
    "\n",
    "lm((w,v),φ) = ∫(w·g)dΓ_N\n"
   ]
  },
  {
   "cell_type": "code",
   "execution_count": 17,
   "id": "83061639-3189-4a0e-80ad-a2ac99727725",
   "metadata": {},
   "outputs": [
    {
     "data": {
      "text/plain": [
       "RepeatingAffineFEStateMap"
      ]
     },
     "execution_count": 17,
     "metadata": {},
     "output_type": "execute_result"
    }
   ],
   "source": [
    "state_map = RepeatingAffineFEStateMap(1, a, [lm],UP,VQ,V_φ)#,U_reg,φh,dΩ,dΓ_N)"
   ]
  },
  {
   "cell_type": "code",
   "execution_count": 18,
   "id": "98ae4f07-7589-441e-9d63-6b6a5464978c",
   "metadata": {},
   "outputs": [
    {
     "data": {
      "text/plain": [
       "LevelSetEvolution{FiniteDifferenceEvolver{1}, FiniteDifferenceReinitialiser{1}}(FiniteDifferenceEvolver{1}(FirstOrderStencil{2, Float64}(), CartesianDiscreteModel(), UnconstrainedFESpace(), [1, 2, 3, 4, 5, 6, 7, 8, 9, 10  …  30392, 30393, 30394, 30395, 30396, 30397, 30398, 30399, 30400, 30401], (isperiodic = (false, false), Δ = (0.1, 0.1), ndof = (301, 101), max_steps = 45, correct_ls = false)), FiniteDifferenceReinitialiser{1}(FirstOrderStencil{2, Float64}(), CartesianDiscreteModel(), UnconstrainedFESpace(), [1, 2, 3, 4, 5, 6, 7, 8, 9, 10  …  30392, 30393, 30394, 30395, 30396, 30397, 30398, 30399, 30400, 30401], (isperiodic = (false, false), Δ = (0.1, 0.1), ndof = (301, 101), max_steps = 2000, tol = 1.0e-6, γ_reinit = 0.5, correct_ls = false)))"
      ]
     },
     "execution_count": 18,
     "metadata": {},
     "output_type": "execute_result"
    }
   ],
   "source": [
    "#stencil = HamiltonJacobiEvolution(FirstOrderStencil(2,Float64),model,V_φ,tol,max_steps)\n",
    "evo = FiniteDifferenceEvolver(FirstOrderStencil(2,Float64),model,V_φ;max_steps)\n",
    "  reinit = FiniteDifferenceReinitialiser(FirstOrderStencil(2,Float64),model,V_φ;tol,γ_reinit)\n",
    "  ls_evo = LevelSetEvolution(evo,reinit)"
   ]
  },
  {
   "cell_type": "code",
   "execution_count": 19,
   "id": "40cdf2c8-ee3e-45a2-a5ec-31934492ede5",
   "metadata": {},
   "outputs": [
    {
     "data": {
      "text/plain": [
       "SymFourthOrderTensorValue{2, Float64, 9}(1.0989010989010988, 0.0, 0.32967032967032966, 0.0, 0.3846153846153846, 0.0, 0.32967032967032966, 0.0, 1.0989010989010988)"
      ]
     },
     "execution_count": 19,
     "metadata": {},
     "output_type": "execute_result"
    }
   ],
   "source": [
    "function C_plane_stress(E,ν)\n",
    "    λ = E*ν/(1-ν^2)  # Plane stress λ\n",
    "    μ = E/(2*(1+ν))\n",
    "    return SymFourthOrderTensorValue{2}(\n",
    "        λ+2μ, 0.0, λ,\n",
    "        0.0, μ, 0.0,\n",
    "        λ, 0.0, λ+2μ\n",
    "    )\n",
    "end\n",
    "C2 = C_plane_stress(1,0.3)\n",
    "\n",
    "# function C_plane_strain(E, ν)\n",
    "#     λ = E * ν / ((1 + ν) * (1 - 2ν))  # Plane strain λ\n",
    "#     μ = E / (2 * (1 + ν))             # Shear modulus\n",
    "#     return SymFourthOrderTensorValue{2}(\n",
    "#         λ + 2μ, 0.0, λ,\n",
    "#         0.0, μ, 0.0,\n",
    "#         λ, 0.0, λ + 2μ\n",
    "#     )\n",
    "# end\n",
    "\n",
    "# C2 = C_plane_strain(1, 0.3)"
   ]
  },
  {
   "cell_type": "code",
   "execution_count": 20,
   "id": "abc75f46-8f1c-46cd-908d-b152ff8b7270",
   "metadata": {},
   "outputs": [],
   "source": [
    "function Cᴴ(r,s,uϕ,φ,dΩ,dΓ_N)\n",
    "    u_s = uϕ[2s-1]; θ_s = uϕ[2s];\n",
    "    ∫((u_s)·g)dΓ_N # ∫((I ∘ φ)*(C2 ⊙ (ε(u_s)) ⊙ (ε(u_s))))dΩ #\n",
    "end\n",
    "\n",
    "\n",
    "\n",
    "J(uϕ,φ) = 1*Cᴴ(1,1,uϕ,φ,dΩ,dΓ_N)\n",
    "C1(uϕ,φ) = ∫(((ρ ∘ φ) - vf)/vol_D)dΩ;"
   ]
  },
  {
   "cell_type": "code",
   "execution_count": 22,
   "id": "c2746c5c-e809-47c6-98bc-e6e1a2cf7934",
   "metadata": {},
   "outputs": [
    {
     "data": {
      "text/plain": [
       "DC1 (generic function with 1 method)"
      ]
     },
     "execution_count": 22,
     "metadata": {},
     "output_type": "execute_result"
    }
   ],
   "source": [
    "DC1(q,uϕ,φ) = ∫(-1/vol_D*q*(DH ∘ φ)*(norm ∘ ∇(φ)))dΩ"
   ]
  },
  {
   "cell_type": "code",
   "execution_count": 23,
   "id": "7d57486f-ad2b-4f39-9896-3cfea6e1739f",
   "metadata": {},
   "outputs": [
    {
     "data": {
      "text/plain": [
       "PDEConstrainedFunctionals:\n",
       "    num_constraints: 1"
      ]
     },
     "execution_count": 23,
     "metadata": {},
     "output_type": "execute_result"
    }
   ],
   "source": [
    "pcfs = PDEConstrainedFunctionals(J,[C1],state_map,analytic_dJ=nothing,analytic_dC=[DC1])"
   ]
  },
  {
   "cell_type": "code",
   "execution_count": 24,
   "id": "24868fb9-7d8c-4780-9865-557453602683",
   "metadata": {},
   "outputs": [
    {
     "data": {
      "text/plain": [
       "VelocityExtension"
      ]
     },
     "execution_count": 24,
     "metadata": {},
     "output_type": "execute_result"
    }
   ],
   "source": [
    "α = 4max_steps*γ*maximum(get_el_Δ(model))\n",
    "a_hilb(p,q) = ∫(α^2*∇(p)⋅∇(q) + p*q)dΩ;\n",
    "vel_ext = VelocityExtension(a_hilb,U_reg,V_reg)"
   ]
  },
  {
   "cell_type": "code",
   "execution_count": 25,
   "id": "d3acbac3-cc9f-4870-b875-b841be689a96",
   "metadata": {},
   "outputs": [
    {
     "data": {
      "text/plain": [
       "AugmentedLagrangian"
      ]
     },
     "execution_count": 25,
     "metadata": {},
     "output_type": "execute_result"
    }
   ],
   "source": [
    "# ## Optimiser\n",
    "optimiser = AugmentedLagrangian(pcfs,ls_evo,vel_ext,φh;γ,verbose=true,constraint_names=[:Vol])"
   ]
  },
  {
   "cell_type": "code",
   "execution_count": 26,
   "id": "b6880f8c-c549-452f-bcda-abd884c3cdee",
   "metadata": {
    "scrolled": true
   },
   "outputs": [
    {
     "name": "stdout",
     "output_type": "stream",
     "text": [
      "Iteration:   0 | L=5.1189e+01, J=4.9645e+01, Vol=3.8704e-01, γ=1.0000e-01, λ1=0.0000e+00, Λ1=2.0618e+01\n",
      "Iteration:   1 | L=3.9032e+01, J=3.7033e+01, Vol=4.4037e-01, γ=1.0000e-01, λ1=-9.0795e+00, Λ1=2.0618e+01\n",
      "Iteration:   2 | L=3.7190e+01, J=3.0264e+01, Vol=4.9010e-01, γ=1.0000e-01, λ1=-1.9184e+01, Λ1=2.0618e+01\n",
      "Iteration:   3 | L=4.0123e+01, J=2.7251e+01, Vol=5.2360e-01, γ=1.0000e-01, λ1=-2.9980e+01, Λ1=2.0618e+01\n",
      "Iteration:   4 | L=4.4333e+01, J=2.6363e+01, Vol=5.0998e-01, γ=1.0000e-01, λ1=-4.0495e+01, Λ1=2.0618e+01\n",
      "Iteration:   5 | L=4.8248e+01, J=2.8066e+01, Vol=4.4742e-01, γ=1.0000e-01, λ1=-4.9720e+01, Λ1=2.2680e+01\n",
      "Iteration:   6 | L=5.0606e+01, J=3.0042e+01, Vol=3.8057e-01, γ=1.0000e-01, λ1=-5.8351e+01, Λ1=2.2680e+01\n",
      "Iteration:   7 | L=5.1730e+01, J=3.1360e+01, Vol=3.2817e-01, γ=1.0000e-01, λ1=-6.5794e+01, Λ1=2.2680e+01\n",
      "Iteration:   8 | L=5.5022e+01, J=3.5163e+01, Vol=2.8758e-01, γ=1.0000e-01, λ1=-7.2316e+01, Λ1=2.2680e+01\n",
      "Iteration:   9 | L=5.4883e+01, J=3.2751e+01, Vol=2.9262e-01, γ=1.0000e-01, λ1=-7.8952e+01, Λ1=2.2680e+01\n",
      "Iteration:  10 | L=5.5506e+01, J=3.4035e+01, Vol=2.6208e-01, γ=1.0000e-01, λ1=-8.4896e+01, Λ1=2.4948e+01\n",
      "Iteration:  11 | L=6.0766e+01, J=4.2455e+01, Vol=2.0925e-01, γ=1.0000e-01, λ1=-9.0117e+01, Λ1=2.4948e+01\n",
      "Iteration:  12 | L=5.9802e+01, J=3.9614e+01, Vol=2.1748e-01, γ=1.0000e-01, λ1=-9.5542e+01, Λ1=2.4948e+01\n",
      "Iteration:  13 | L=6.0350e+01, J=3.8694e+01, Vol=2.2033e-01, γ=1.0000e-01, λ1=-1.0104e+02, Λ1=2.4948e+01\n",
      "Iteration:  14 | L=6.0458e+01, J=4.1455e+01, Vol=1.8390e-01, γ=1.0000e-01, λ1=-1.0563e+02, Λ1=2.4948e+01\n",
      "Iteration:  15 | L=6.0861e+01, J=4.0347e+01, Vol=1.8995e-01, γ=1.0000e-01, λ1=-1.1037e+02, Λ1=2.7442e+01\n",
      "Iteration:  16 | L=6.2278e+01, J=4.6004e+01, Vol=1.4484e-01, γ=1.0000e-01, λ1=-1.1434e+02, Λ1=2.7442e+01\n",
      "Iteration:  17 | L=6.1928e+01, J=4.2558e+01, Vol=1.6609e-01, γ=1.0000e-01, λ1=-1.1890e+02, Λ1=2.7442e+01\n",
      "Iteration:  18 | L=6.1965e+01, J=4.7884e+01, Vol=1.1685e-01, γ=1.0000e-01, λ1=-1.2210e+02, Λ1=2.7442e+01\n",
      "Iteration:  19 | L=6.2035e+01, J=4.3106e+01, Vol=1.5241e-01, γ=1.0000e-01, λ1=-1.2629e+02, Λ1=2.7442e+01\n",
      "Iteration:  20 | L=6.1960e+01, J=4.8457e+01, Vol=1.0571e-01, γ=1.0000e-01, λ1=-1.2919e+02, Λ1=3.0187e+01\n",
      "Iteration:  21 | L=6.2216e+01, J=4.4292e+01, Vol=1.3657e-01, γ=1.0000e-01, λ1=-1.3331e+02, Λ1=3.0187e+01\n",
      "Iteration:  22 | L=6.2080e+01, J=4.9846e+01, Vol=9.0831e-02, γ=1.0000e-01, λ1=-1.3605e+02, Λ1=3.0187e+01\n",
      "Iteration:  23 | L=6.2540e+01, J=4.5091e+01, Vol=1.2648e-01, γ=1.0000e-01, λ1=-1.3987e+02, Λ1=3.0187e+01\n",
      "Iteration:  24 | L=6.2067e+01, J=5.0968e+01, Vol=7.8681e-02, γ=1.0000e-01, λ1=-1.4225e+02, Λ1=3.0187e+01\n",
      "Iteration:  25 | L=6.2716e+01, J=4.6037e+01, Vol=1.1583e-01, γ=1.0000e-01, λ1=-1.4574e+02, Λ1=3.3205e+01\n",
      "Iteration:  26 | L=6.2083e+01, J=5.2427e+01, Vol=6.5766e-02, γ=1.0000e-01, λ1=-1.4793e+02, Λ1=3.3205e+01\n",
      "Iteration:  27 | L=6.2477e+01, J=4.7716e+01, Vol=9.8691e-02, γ=1.0000e-01, λ1=-1.5120e+02, Λ1=3.3205e+01\n",
      "Iteration:  28 | L=6.2266e+01, J=5.4187e+01, Vol=5.3120e-02, γ=1.0000e-01, λ1=-1.5297e+02, Λ1=3.3205e+01\n",
      "Iteration:  29 | L=6.2875e+01, J=4.7916e+01, Vol=9.6773e-02, γ=1.0000e-01, λ1=-1.5618e+02, Λ1=3.3205e+01\n",
      "Iteration:  30 | L=6.2080e+01, J=5.4757e+01, Vol=4.6657e-02, γ=1.0000e-01, λ1=-1.5773e+02, Λ1=3.6526e+01\n",
      "Iteration:  31 | L=6.2807e+01, J=4.8851e+01, Vol=8.7595e-02, γ=1.0000e-01, λ1=-1.6093e+02, Λ1=3.6526e+01\n",
      "Iteration:  32 | L=6.2180e+01, J=5.6939e+01, Vol=3.2443e-02, γ=1.0000e-01, λ1=-1.6211e+02, Λ1=3.6526e+01\n",
      "Iteration:  33 | L=6.1988e+01, J=5.1037e+01, Vol=6.7043e-02, γ=1.0000e-01, λ1=-1.6456e+02, Λ1=3.6526e+01\n",
      "Iteration:  34 | L=6.2614e+01, J=5.8881e+01, Vol=2.2626e-02, γ=1.0000e-01, λ1=-1.6539e+02, Λ1=3.6526e+01\n",
      "Iteration:  35 | L=6.1784e+01, J=5.2041e+01, Vol=5.8532e-02, γ=1.0000e-01, λ1=-1.6753e+02, Λ1=4.0179e+01\n",
      "Iteration:  36 | L=6.2797e+01, J=5.9584e+01, Vol=1.9133e-02, γ=1.0000e-01, λ1=-1.6830e+02, Λ1=4.0179e+01\n",
      "Iteration:  37 | L=6.1522e+01, J=5.3463e+01, Vol=4.7613e-02, γ=1.0000e-01, λ1=-1.7021e+02, Λ1=4.0179e+01\n",
      "Iteration:  38 | L=6.2519e+01, J=5.9055e+01, Vol=2.0302e-02, γ=1.0000e-01, λ1=-1.7102e+02, Λ1=4.0179e+01\n",
      "Iteration:  39 | L=6.1286e+01, J=5.4436e+01, Vol=3.9866e-02, γ=1.0000e-01, λ1=-1.7263e+02, Λ1=4.0179e+01\n",
      "Iteration:  40 | L=6.2360e+01, J=5.9373e+01, Vol=1.7272e-02, γ=1.0000e-01, λ1=-1.7332e+02, Λ1=4.4196e+01\n",
      "Iteration:  41 | L=6.0995e+01, J=5.5485e+01, Vol=3.1663e-02, γ=1.0000e-01, λ1=-1.7472e+02, Λ1=4.4196e+01\n",
      "Iteration:  42 | L=6.3316e+01, J=6.0258e+01, Vol=1.7461e-02, γ=1.0000e-01, λ1=-1.7549e+02, Λ1=4.4196e+01\n",
      "Iteration:  43 | L=6.1085e+01, J=5.4913e+01, Vol=3.5013e-02, γ=1.0000e-01, λ1=-1.7704e+02, Λ1=4.4196e+01\n",
      "Iteration:  44 | L=6.3054e+01, J=6.1598e+01, Vol=8.2139e-03, γ=1.0000e-01, λ1=-1.7740e+02, Λ1=4.4196e+01\n",
      "Iteration:  45 | L=6.0851e+01, J=5.4709e+01, Vol=3.4473e-02, γ=1.0000e-01, λ1=-1.7893e+02, Λ1=4.8616e+01\n",
      "Iteration:  46 | L=6.5763e+01, J=6.8481e+01, Vol=-1.5223e-02, γ=1.0000e-01, λ1=-1.7819e+02, Λ1=4.8616e+01\n",
      "Iteration:  47 | L=6.2477e+01, J=5.8545e+01, Vol=2.2000e-02, γ=1.0000e-01, λ1=-1.7926e+02, Λ1=4.8616e+01\n",
      "Iteration:  48 | L=6.3212e+01, J=6.2165e+01, Vol=5.8411e-03, γ=1.0000e-01, λ1=-1.7954e+02, Λ1=4.8616e+01\n",
      "Iteration:  49 | L=6.1845e+01, J=5.5470e+01, Vol=3.5339e-02, γ=1.0000e-01, λ1=-1.8126e+02, Λ1=4.8616e+01\n",
      "Iteration:  50 | L=6.9767e+01, J=7.2668e+01, Vol=-1.6041e-02, γ=1.0000e-01, λ1=-1.8048e+02, Λ1=5.3478e+01\n",
      "\u001b[33m   Oscillations detected, reducing γ to 0.07500000000000001\u001b[39m\n",
      "Iteration:  51 | L=6.5567e+01, J=6.6395e+01, Vol=-4.5885e-03, γ=7.5000e-02, λ1=-1.8023e+02, Λ1=5.3478e+01\n",
      "Iteration:  52 | L=6.2418e+01, J=6.1280e+01, Vol=6.3074e-03, γ=7.5000e-02, λ1=-1.8057e+02, Λ1=5.3478e+01\n",
      "Iteration:  53 | L=6.1658e+01, J=5.5596e+01, Vol=3.3405e-02, γ=7.5000e-02, λ1=-1.8236e+02, Λ1=5.3478e+01\n",
      "Iteration:  54 | L=6.2228e+01, J=6.2016e+01, Vol=1.1611e-03, γ=7.5000e-02, λ1=-1.8242e+02, Λ1=5.3478e+01\n",
      "Iteration:  55 | L=6.1354e+01, J=5.6869e+01, Vol=2.4497e-02, γ=7.5000e-02, λ1=-1.8373e+02, Λ1=5.8825e+01\n",
      "Iteration:  56 | L=6.1614e+01, J=5.9883e+01, Vol=9.4094e-03, γ=7.5000e-02, λ1=-1.8428e+02, Λ1=5.8825e+01\n",
      "Iteration:  57 | L=6.1242e+01, J=5.6804e+01, Vol=2.3992e-02, γ=7.5000e-02, λ1=-1.8569e+02, Λ1=5.8825e+01\n",
      "Iteration:  58 | L=6.1510e+01, J=6.0526e+01, Vol=5.2970e-03, γ=7.5000e-02, λ1=-1.8600e+02, Λ1=5.8825e+01\n",
      "Iteration:  59 | L=6.1205e+01, J=5.6911e+01, Vol=2.3001e-02, γ=7.5000e-02, λ1=-1.8736e+02, Λ1=5.8825e+01\n",
      "Iteration:  60 | L=6.1414e+01, J=6.0406e+01, Vol=5.3724e-03, γ=7.5000e-02, λ1=-1.8767e+02, Λ1=5.8825e+01\n",
      "Iteration:  61 | L=6.1149e+01, J=5.6923e+01, Vol=2.2437e-02, γ=7.5000e-02, λ1=-1.8899e+02, Λ1=5.8825e+01\n",
      "Iteration:  62 | L=6.1410e+01, J=6.0914e+01, Vol=2.6220e-03, γ=7.5000e-02, λ1=-1.8915e+02, Λ1=5.8825e+01\n",
      "Iteration:  63 | L=6.1118e+01, J=5.6966e+01, Vol=2.1874e-02, γ=7.5000e-02, λ1=-1.9043e+02, Λ1=5.8825e+01\n",
      "Iteration:  64 | L=6.1377e+01, J=6.1097e+01, Vol=1.4710e-03, γ=7.5000e-02, λ1=-1.9052e+02, Λ1=5.8825e+01\n",
      "Iteration:  65 | L=6.1063e+01, J=5.7199e+01, Vol=2.0215e-02, γ=7.5000e-02, λ1=-1.9171e+02, Λ1=6.4708e+01\n",
      "Iteration:  66 | L=6.1328e+01, J=6.1203e+01, Vol=6.5142e-04, γ=7.5000e-02, λ1=-1.9175e+02, Λ1=6.4708e+01\n",
      "Iteration:  67 | L=6.0963e+01, J=5.7367e+01, Vol=1.8696e-02, γ=7.5000e-02, λ1=-1.9296e+02, Λ1=6.4708e+01\n",
      "Iteration:  68 | L=6.1245e+01, J=6.1402e+01, Vol=-8.1198e-04, γ=7.5000e-02, λ1=-1.9291e+02, Λ1=6.4708e+01\n",
      "Iteration:  69 | L=6.0899e+01, J=5.7557e+01, Vol=1.7276e-02, γ=7.5000e-02, λ1=-1.9403e+02, Λ1=6.4708e+01\n",
      "Iteration:  70 | L=6.1204e+01, J=6.1512e+01, Vol=-1.5872e-03, γ=7.5000e-02, λ1=-1.9392e+02, Λ1=6.4708e+01\n",
      "Iteration:  71 | L=6.0834e+01, J=5.7709e+01, Vol=1.6069e-02, γ=7.5000e-02, λ1=-1.9496e+02, Λ1=6.4708e+01\n",
      "Iteration:  72 | L=6.1147e+01, J=6.1589e+01, Vol=-2.2665e-03, γ=7.5000e-02, λ1=-1.9482e+02, Λ1=6.4708e+01\n",
      "Iteration:  73 | L=6.0735e+01, J=5.7933e+01, Vol=1.4347e-02, γ=7.5000e-02, λ1=-1.9575e+02, Λ1=6.4708e+01\n",
      "Iteration:  74 | L=6.1046e+01, J=6.1661e+01, Vol=-3.1400e-03, γ=7.5000e-02, λ1=-1.9554e+02, Λ1=6.4708e+01\n",
      "Iteration:  75 | L=6.0669e+01, J=5.8011e+01, Vol=1.3565e-02, γ=7.5000e-02, λ1=-1.9642e+02, Λ1=7.1179e+01\n",
      "Iteration:  76 | L=6.0983e+01, J=6.1736e+01, Vol=-3.8339e-03, γ=7.5000e-02, λ1=-1.9615e+02, Λ1=7.1179e+01\n",
      "Iteration:  77 | L=6.0611e+01, J=5.8107e+01, Vol=1.2740e-02, γ=7.5000e-02, λ1=-1.9705e+02, Λ1=7.1179e+01\n",
      "Iteration:  78 | L=6.0918e+01, J=6.1774e+01, Vol=-4.3474e-03, γ=7.5000e-02, λ1=-1.9675e+02, Λ1=7.1179e+01\n",
      "\u001b[33m   Oscillations detected, reducing γ to 0.05625000000000001\u001b[39m\n",
      "Iteration:  79 | L=6.0487e+01, J=5.8667e+01, Vol=9.2322e-03, γ=5.6250e-02, λ1=-1.9740e+02, Λ1=7.1179e+01\n",
      "Iteration:  80 | L=6.0523e+01, J=6.0583e+01, Vol=-3.0837e-04, γ=5.6250e-02, λ1=-1.9738e+02, Λ1=7.1179e+01\n",
      "Iteration:  81 | L=6.0483e+01, J=5.8093e+01, Vol=1.2078e-02, γ=5.6250e-02, λ1=-1.9824e+02, Λ1=7.1179e+01\n",
      "Iteration:  82 | L=6.0512e+01, J=6.1018e+01, Vol=-2.5505e-03, γ=5.6250e-02, λ1=-1.9806e+02, Λ1=7.1179e+01\n",
      "Iteration:  83 | L=6.0468e+01, J=5.7941e+01, Vol=1.2730e-02, γ=5.6250e-02, λ1=-1.9896e+02, Λ1=7.1179e+01\n",
      "Iteration:  84 | L=6.0469e+01, J=6.1001e+01, Vol=-2.6741e-03, γ=5.6250e-02, λ1=-1.9877e+02, Λ1=7.1179e+01\n"
     ]
    }
   ],
   "source": [
    "for (it,uh,φh) in optimiser\n",
    "    uv, Tv = uh\n",
    "    data = [\"φ\"=>φh,\"H(φ)\"=>(H ∘ φh),\"|∇(φ)|\"=>(norm ∘ ∇(φh)),\"uv\"=>uv,\"Tv\"=>Tv,\"ρ(φ)\"=>(ρ ∘ φh)]\n",
    "    iszero(it % iter_mod) && writevtk(Ω,path*\"out$it\",cellfields= data) \n",
    "    write_history(path*\"/historymodified$tol,max_steps-$max_steps.txt\",optimiser.history)\n",
    "end"
   ]
  },
  {
   "cell_type": "code",
   "execution_count": null,
   "id": "8f802a90-b33c-47f8-853c-6be7d6362f91",
   "metadata": {},
   "outputs": [],
   "source": [
    "function ElasEnergy(ε_in)\n",
    "    ElasEner = 0.5*(λₘₐₜ)*(tr(ε_in))^2 + (μₘₐₜ + 0.5*κₘₐₜ)*(ε_in ⊙ ε_in)\n",
    "    TotElasEner = sum(∫(ElasEner)*dΩ)\n",
    "    return TotElasEner\n",
    "end\n",
    "\n",
    "function RotationEnergy(∇_th) #∇_th = ∇(θ)\n",
    "    RotEnergy = 0.5*γₘₐₜ*(∇_th ⋅ ∇_th)\n",
    "    TotRotEnergy = sum(∫(RotEnergy)*dΩ)\n",
    "    return TotRotEnergy\n",
    "end\n",
    "\n",
    "function CouplingEnergy(∇_uh,θ)\n",
    "    ∇_uhᵀ = transpose(∇_uh)\n",
    "    ϵ_skew = 0.5*(∇_uhᵀ - ∇_uh) - E_Matrx*θ\n",
    "    coupEnergy = 0.5*(κₘₐₜ*(ϵ_skew ⊙ ϵ_skew))\n",
    "    TotcoupEnergy = sum(∫(coupEnergy)*dΩ)\n",
    "    return TotcoupEnergy\n",
    "end"
   ]
  },
  {
   "cell_type": "code",
   "execution_count": 27,
   "id": "cc112e08-3623-488f-88a2-c1db4768d153",
   "metadata": {},
   "outputs": [
    {
     "name": "stderr",
     "output_type": "stream",
     "text": [
      "\u001b[33m\u001b[1m┌ \u001b[22m\u001b[39m\u001b[33m\u001b[1mWarning: \u001b[22m\u001b[39mdetected extension '.0e-6' does not correspond to dataset type.\n",
      "\u001b[33m\u001b[1m│ \u001b[22m\u001b[39mAppending '.vtu' to filename.\n",
      "\u001b[33m\u001b[1m└ \u001b[22m\u001b[39m\u001b[90m@ WriteVTK ~/.julia/packages/WriteVTK/Be3qm/src/WriteVTK.jl:162\u001b[39m\n"
     ]
    },
    {
     "data": {
      "text/plain": [
       "([\"./Result_tol&Max_stepMod/results_315times105/N_0.3/ElasticMicropolar_l_4.0/30,10/comp_serial/E_1/out84,max_step-45, tol-1.0e-6.vtu\"],)"
      ]
     },
     "execution_count": 27,
     "metadata": {},
     "output_type": "execute_result"
    }
   ],
   "source": [
    "it = get_history(optimiser).niter; uh = get_state(pcfs);\n",
    "uv, Tv = uh\n",
    "WElas = ElasEnergy(ε(uv))\n",
    "WRot = RotationEnergy(∇(Tv))\n",
    "WElas = CouplingEnergy(∇(uv),Tv)\n",
    "\n",
    "writevtk(Ω,path*\"out$it,max_step-$max_steps, tol-$tol\",cellfields=[\"φ\"=>φh,\"H(φ)\"=>(H ∘ φh),\"|∇(φ)|\"=>(norm ∘ ∇(φh)),\"uv\"=>uv,\"Tv\"=>Tv])"
   ]
  },
  {
   "cell_type": "code",
   "execution_count": 23,
   "id": "12bde83e-3756-4f0e-b28d-249e198ad4a7",
   "metadata": {},
   "outputs": [
    {
     "data": {
      "text/plain": [
       "0.0"
      ]
     },
     "execution_count": 23,
     "metadata": {},
     "output_type": "execute_result"
    }
   ],
   "source": [
    "WElas = ElasEnergy(ε(uv))\n",
    "WRot = RotationEnergy(∇(Tv))\n",
    "WElas = CouplingEnergy(∇(uv),Tv)"
   ]
  }
 ],
 "metadata": {
  "kernelspec": {
   "display_name": "Julia 1.10.10",
   "language": "julia",
   "name": "julia-1.10"
  },
  "language_info": {
   "file_extension": ".jl",
   "mimetype": "application/julia",
   "name": "julia",
   "version": "1.10.10"
  }
 },
 "nbformat": 4,
 "nbformat_minor": 5
}
